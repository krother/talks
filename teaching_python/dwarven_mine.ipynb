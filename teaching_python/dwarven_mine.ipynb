{
 "cells": [
  {
   "cell_type": "markdown",
   "id": "9e844a0a",
   "metadata": {},
   "source": [
    "# Dwarven Mines\n",
    "\n",
    "An ancient dwarven chant goes like this:\n",
    "\n",
    "    gold gold gold gold\n",
    "    gold gold gold gold\n",
    "    gold gold gold gold\n",
    "    mine mine mine mine\n",
    "\n",
    "Although the richness of the dwarven language suffered from the translation\n",
    "(they have at least 27 words for the shiny metal),\n",
    "the meaning of the last verse is clear. It refers to:\n",
    "\n",
    "1. the place\n",
    "2. what the dwarf does there\n",
    "3. the owner\n",
    "4. the security measures\n",
    "\n",
    "Let's take a closer look at a map of the mines."
   ]
  },
  {
   "cell_type": "markdown",
   "id": "424560db",
   "metadata": {},
   "source": [
    "### Create a dwarven mine"
   ]
  },
  {
   "cell_type": "code",
   "execution_count": null,
   "id": "24819138",
   "metadata": {},
   "outputs": [],
   "source": [
    "import numpy as np\n",
    "\n",
    "mines = np.random.choice([' ', '*'], size=(10, 10), p=[0.7, 0.3])\n",
    "print(mines)"
   ]
  },
  {
   "cell_type": "markdown",
   "id": "97af12f9",
   "metadata": {},
   "source": [
    "## Question\n",
    "What coding tasks using the mine theme could your students do in a Numpy tutorial?"
   ]
  },
  {
   "cell_type": "code",
   "execution_count": null,
   "id": "2a656e23",
   "metadata": {},
   "outputs": [],
   "source": []
  },
  {
   "cell_type": "code",
   "execution_count": null,
   "id": "db02a0eb",
   "metadata": {},
   "outputs": [],
   "source": []
  },
  {
   "cell_type": "code",
   "execution_count": null,
   "id": "ad73c86a",
   "metadata": {},
   "outputs": [],
   "source": []
  },
  {
   "cell_type": "code",
   "execution_count": null,
   "id": "932277b7",
   "metadata": {},
   "outputs": [],
   "source": []
  },
  {
   "cell_type": "code",
   "execution_count": null,
   "id": "a7969036",
   "metadata": {},
   "outputs": [],
   "source": []
  },
  {
   "cell_type": "code",
   "execution_count": null,
   "id": "9b0dc83b",
   "metadata": {},
   "outputs": [],
   "source": []
  },
  {
   "cell_type": "code",
   "execution_count": null,
   "id": "c88d64ae",
   "metadata": {},
   "outputs": [],
   "source": []
  },
  {
   "cell_type": "markdown",
   "id": "cd78b321",
   "metadata": {},
   "source": [
    "### Safety first! Count the number of neighboring mines:"
   ]
  },
  {
   "cell_type": "code",
   "execution_count": null,
   "id": "ae018327",
   "metadata": {},
   "outputs": [],
   "source": [
    "mine_present = mines == '*'"
   ]
  },
  {
   "cell_type": "code",
   "execution_count": null,
   "id": "f405a4a8",
   "metadata": {},
   "outputs": [],
   "source": [
    "count = np.zeros(mines.shape, np.uint8)\n",
    "\n",
    "count[1:, 1:] += mine_present[:-1, :-1]\n",
    "count[1:, :] += mine_present[:-1, :]\n",
    "count[1:, :-1] += mine_present[:-1, 1:]\n",
    "count[:, 1:] += mine_present[:, :-1]\n",
    "count[:, :-1] += mine_present[:, 1:]\n",
    "count[:-1, 1:] += mine_present[1:, :-1]\n",
    "count[:-1, :] += mine_present[1:, :]\n",
    "count[:-1, :-1] += mine_present[1:, 1:]"
   ]
  },
  {
   "cell_type": "code",
   "execution_count": null,
   "id": "b3605a9c",
   "metadata": {},
   "outputs": [],
   "source": [
    "nomines = mines != '*'\n",
    "mines[nomines] = count[nomines].astype(str)\n",
    "print(mines)"
   ]
  },
  {
   "cell_type": "code",
   "execution_count": null,
   "id": "eed3d642",
   "metadata": {},
   "outputs": [],
   "source": []
  },
  {
   "cell_type": "code",
   "execution_count": null,
   "id": "ec3ec31f",
   "metadata": {},
   "outputs": [],
   "source": [
    "### Options to \n",
    "\n"
   ]
  }
 ],
 "metadata": {
  "kernelspec": {
   "display_name": "Python 3",
   "language": "python",
   "name": "python3"
  },
  "language_info": {
   "codemirror_mode": {
    "name": "ipython",
    "version": 3
   },
   "file_extension": ".py",
   "mimetype": "text/x-python",
   "name": "python",
   "nbconvert_exporter": "python",
   "pygments_lexer": "ipython3",
   "version": "3.9.12"
  }
 },
 "nbformat": 4,
 "nbformat_minor": 5
}
